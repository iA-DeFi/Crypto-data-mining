{
 "cells": [
  {
   "cell_type": "code",
   "execution_count": 15,
   "id": "8b22ba7d-03ef-48fe-8441-f93494825cf9",
   "metadata": {},
   "outputs": [],
   "source": [
    "import json\n",
    "import pandas as pd"
   ]
  },
  {
   "cell_type": "code",
   "execution_count": 16,
   "id": "de4d5fc4-2e88-4497-baaa-100a98e995d7",
   "metadata": {},
   "outputs": [],
   "source": [
    "# open json file with crypto data\n",
    "f = open('mydata.json')\n",
    "data = json.load(f)\n",
    "\n",
    "#convert json with crypto data to dataframe\n",
    "df = pd.json_normalize(data, record_path =['data'])"
   ]
  },
  {
   "cell_type": "code",
   "execution_count": 17,
   "id": "0d49dd9f-856a-4cd7-803d-cb9e682360e6",
   "metadata": {},
   "outputs": [
    {
     "data": {
      "text/plain": [
       "Index(['id', 'name', 'symbol', 'slug', 'num_market_pairs', 'date_added',\n",
       "       'tags', 'max_supply', 'circulating_supply', 'total_supply', 'platform',\n",
       "       'cmc_rank', 'self_reported_circulating_supply',\n",
       "       'self_reported_market_cap', 'last_updated', 'quote.USD.price',\n",
       "       'quote.USD.volume_24h', 'quote.USD.volume_change_24h',\n",
       "       'quote.USD.percent_change_1h', 'quote.USD.percent_change_24h',\n",
       "       'quote.USD.percent_change_7d', 'quote.USD.percent_change_30d',\n",
       "       'quote.USD.percent_change_60d', 'quote.USD.percent_change_90d',\n",
       "       'quote.USD.market_cap', 'quote.USD.market_cap_dominance',\n",
       "       'quote.USD.fully_diluted_market_cap', 'quote.USD.last_updated',\n",
       "       'platform.id', 'platform.name', 'platform.symbol', 'platform.slug',\n",
       "       'platform.token_address'],\n",
       "      dtype='object')"
      ]
     },
     "execution_count": 17,
     "metadata": {},
     "output_type": "execute_result"
    }
   ],
   "source": [
    "df.columns"
   ]
  },
  {
   "cell_type": "code",
   "execution_count": 18,
   "id": "55cde71a-cb4d-4c3a-9c0d-bacb5155729c",
   "metadata": {},
   "outputs": [],
   "source": [
    "df.drop(['id','slug','platform','platform.id','platform.token_address',\n",
    "        'platform.slug','platform.symbol','platform.id', 'platform.name'], axis=1, inplace=True)"
   ]
  },
  {
   "cell_type": "code",
   "execution_count": 20,
   "id": "905e3375-59e9-4220-909d-f7993eeb364a",
   "metadata": {},
   "outputs": [
    {
     "data": {
      "text/plain": [
       "name                                                                            Bitcoin\n",
       "symbol                                                                              BTC\n",
       "num_market_pairs                                                                   9122\n",
       "date_added                                                     2013-04-28T00:00:00.000Z\n",
       "tags                                  [mineable, pow, sha-256, store-of-value, state...\n",
       "max_supply                                                                   21000000.0\n",
       "circulating_supply                                                           18946468.0\n",
       "total_supply                                                                 18946468.0\n",
       "cmc_rank                                                                              1\n",
       "self_reported_circulating_supply                                                   None\n",
       "self_reported_market_cap                                                           None\n",
       "last_updated                                                   2022-02-02T04:20:00.000Z\n",
       "quote.USD.price                                                            38491.618645\n",
       "quote.USD.volume_24h                                                 20144566086.028881\n",
       "quote.USD.volume_change_24h                                                      0.2194\n",
       "quote.USD.percent_change_1h                                                   -0.562179\n",
       "quote.USD.percent_change_24h                                                  -0.233859\n",
       "quote.USD.percent_change_7d                                                    3.136122\n",
       "quote.USD.percent_change_30d                                                 -17.933056\n",
       "quote.USD.percent_change_60d                                                 -26.834286\n",
       "quote.USD.percent_change_90d                                                 -38.603851\n",
       "quote.USD.market_cap                                                729280220917.050537\n",
       "quote.USD.market_cap_dominance                                                  41.1685\n",
       "quote.USD.fully_diluted_market_cap                                  808323991535.420044\n",
       "quote.USD.last_updated                                         2022-02-02T04:20:00.000Z\n",
       "Name: 0, dtype: object"
      ]
     },
     "execution_count": 20,
     "metadata": {},
     "output_type": "execute_result"
    }
   ],
   "source": [
    "df.iloc[0]"
   ]
  },
  {
   "cell_type": "code",
   "execution_count": 14,
   "id": "4a4b6f62-08d7-4ddb-8f57-f602b8fef669",
   "metadata": {},
   "outputs": [
    {
     "ename": "NameError",
     "evalue": "name 'df_btc' is not defined",
     "output_type": "error",
     "traceback": [
      "\u001b[0;31m---------------------------------------------------------------------------\u001b[0m",
      "\u001b[0;31mNameError\u001b[0m                                 Traceback (most recent call last)",
      "\u001b[0;32m<ipython-input-14-baa2e78803fd>\u001b[0m in \u001b[0;36m<module>\u001b[0;34m\u001b[0m\n\u001b[1;32m      1\u001b[0m \u001b[0mdf\u001b[0m\u001b[0;34m\u001b[0m\u001b[0;34m\u001b[0m\u001b[0m\n\u001b[0;32m----> 2\u001b[0;31m df_close_price = pd.DataFrame({'BTC': df_btc.close,\n\u001b[0m\u001b[1;32m      3\u001b[0m                    \u001b[0;34m'ETH'\u001b[0m\u001b[0;34m:\u001b[0m \u001b[0mdf_eth\u001b[0m\u001b[0;34m.\u001b[0m\u001b[0mclose\u001b[0m\u001b[0;34m,\u001b[0m\u001b[0;34m\u001b[0m\u001b[0;34m\u001b[0m\u001b[0m\n\u001b[1;32m      4\u001b[0m                    'LTC': df_ltc.close})\n",
      "\u001b[0;31mNameError\u001b[0m: name 'df_btc' is not defined"
     ]
    }
   ],
   "source": [
    "df\n",
    "df_close_price = pd.DataFrame({'BTC': df_btc.close,\n",
    "                   'ETH': df_eth.close,\n",
    "                   'LTC': df_ltc.close})"
   ]
  },
  {
   "cell_type": "code",
   "execution_count": null,
   "id": "5229a83c-cb41-46eb-8ab1-cd818f970c4a",
   "metadata": {},
   "outputs": [],
   "source": []
  }
 ],
 "metadata": {
  "kernelspec": {
   "display_name": "Python 3",
   "language": "python",
   "name": "python3"
  },
  "language_info": {
   "codemirror_mode": {
    "name": "ipython",
    "version": 3
   },
   "file_extension": ".py",
   "mimetype": "text/x-python",
   "name": "python",
   "nbconvert_exporter": "python",
   "pygments_lexer": "ipython3",
   "version": "3.8.5"
  }
 },
 "nbformat": 4,
 "nbformat_minor": 5
}
