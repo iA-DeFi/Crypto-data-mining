{
 "cells": [
  {
   "cell_type": "markdown",
   "metadata": {},
   "source": [
    "The CoinMarketCap API is a suite of high-performance RESTful JSON endpoints \n"
   ]
  },
  {
   "cell_type": "code",
   "execution_count": 44,
   "metadata": {},
   "outputs": [],
   "source": [
    "# Libraries\n",
    "import os\n",
    "from dotenv import load_dotenv\n",
    "import requests\n",
    "import time\n",
    "import json"
   ]
  },
  {
   "cell_type": "code",
   "execution_count": 3,
   "metadata": {},
   "outputs": [
    {
     "name": "stdout",
     "output_type": "stream",
     "text": [
      "e5a54deb-f0bc-4408-bafa-0aa9c538345d\n"
     ]
    }
   ],
   "source": [
    "#Load TOKEN\n",
    "load_dotenv()\n",
    "key=os.getenv('API-KEY')\n",
    "print(key)"
   ]
  },
  {
   "cell_type": "code",
   "execution_count": 45,
   "metadata": {},
   "outputs": [],
   "source": [
    "url = 'https://pro-api.coinmarketcap.com/v1/cryptocurrency/listings/latest'\n",
    "params = {\n",
    "    'start':'1',\n",
    "    'limit':'6',\n",
    "    'convert':'USD'\n",
    "}\n",
    "headers = {\n",
    "  'Accepts': 'application/json',\n",
    "  'X-CMC_PRO_API_KEY': key\n",
    "}\n",
    "\n",
    "crypto_dict = requests.get(url,params = params, headers = headers).json()"
   ]
  },
  {
   "cell_type": "code",
   "execution_count": 46,
   "metadata": {},
   "outputs": [],
   "source": [
    "# save json file\n",
    "with open('mydata.json', 'w') as f:\n",
    "    json.dump(crypto_dict, f)"
   ]
  },
  {
   "cell_type": "code",
   "execution_count": 51,
   "metadata": {},
   "outputs": [],
   "source": [
    "# open json file\n",
    "f = open('mydata.json')\n",
    "data = json.load(f)"
   ]
  },
  {
   "cell_type": "code",
   "execution_count": 52,
   "metadata": {},
   "outputs": [],
   "source": []
  },
  {
   "cell_type": "code",
   "execution_count": 54,
   "metadata": {},
   "outputs": [
    {
     "data": {
      "text/plain": [
       "Index(['id', 'name', 'symbol', 'slug', 'num_market_pairs', 'date_added',\n",
       "       'tags', 'max_supply', 'circulating_supply', 'total_supply', 'platform',\n",
       "       'cmc_rank', 'last_updated', 'quote.USD.price', 'quote.USD.volume_24h',\n",
       "       'quote.USD.volume_change_24h', 'quote.USD.percent_change_1h',\n",
       "       'quote.USD.percent_change_24h', 'quote.USD.percent_change_7d',\n",
       "       'quote.USD.percent_change_30d', 'quote.USD.percent_change_60d',\n",
       "       'quote.USD.percent_change_90d', 'quote.USD.market_cap',\n",
       "       'quote.USD.market_cap_dominance', 'quote.USD.fully_diluted_market_cap',\n",
       "       'quote.USD.last_updated', 'platform.id', 'platform.name',\n",
       "       'platform.symbol', 'platform.slug', 'platform.token_address'],\n",
       "      dtype='object')"
      ]
     },
     "execution_count": 54,
     "metadata": {},
     "output_type": "execute_result"
    }
   ],
   "source": []
  },
  {
   "cell_type": "code",
   "execution_count": null,
   "metadata": {},
   "outputs": [],
   "source": []
  }
 ],
 "metadata": {
  "interpreter": {
   "hash": "23b89f58921842f2569dcc9b83f9ba479f5f1ea88d847afcfb6299e9e2718519"
  },
  "kernelspec": {
   "display_name": "Python 3 (ipykernel)",
   "language": "python",
   "name": "python3"
  },
  "language_info": {
   "codemirror_mode": {
    "name": "ipython",
    "version": 3
   },
   "file_extension": ".py",
   "mimetype": "text/x-python",
   "name": "python",
   "nbconvert_exporter": "python",
   "pygments_lexer": "ipython3",
   "version": "3.8.2"
  }
 },
 "nbformat": 4,
 "nbformat_minor": 4
}
