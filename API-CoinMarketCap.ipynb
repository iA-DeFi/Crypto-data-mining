{
 "cells": [
  {
   "cell_type": "markdown",
   "metadata": {},
   "source": [
    "The CoinMarketCap API is a suite of high-performance RESTful JSON endpoints \n"
   ]
  },
  {
   "cell_type": "code",
   "execution_count": 1,
   "metadata": {},
   "outputs": [],
   "source": [
    "# Libraries\n",
    "import os\n",
    "from dotenv import load_dotenv\n",
    "import requests\n",
    "import time\n",
    "import json"
   ]
  },
  {
   "cell_type": "code",
   "execution_count": 2,
   "metadata": {},
   "outputs": [
    {
     "name": "stdout",
     "output_type": "stream",
     "text": [
      "e5a54deb-f0bc-4408-bafa-0aa9c538345d\n"
     ]
    }
   ],
   "source": [
    "#Load TOKEN\n",
    "load_dotenv()\n",
    "key=os.getenv('API-KEY')\n",
    "print(key)"
   ]
  },
  {
   "cell_type": "markdown",
   "metadata": {},
   "source": [
    "# Listings latest"
   ]
  },
  {
   "cell_type": "code",
   "execution_count": null,
   "metadata": {},
   "outputs": [],
   "source": [
    "url = 'https://pro-api.coinmarketcap.com/v1/cryptocurrency/listings/latest'\n",
    "\n",
    "params = {\n",
    "    'start':'1',\n",
    "    'limit':'6',\n",
    "    'convert':'USD'\n",
    "}\n",
    "headers = {\n",
    "  'Accepts': 'application/json',\n",
    "  'X-CMC_PRO_API_KEY': key\n",
    "}\n",
    "\n",
    "crypto_dict = requests.get(url,params = params, headers = headers).json()"
   ]
  },
  {
   "cell_type": "markdown",
   "metadata": {},
   "source": [
    "# Quotes Latest"
   ]
  },
  {
   "cell_type": "code",
   "execution_count": 9,
   "metadata": {},
   "outputs": [],
   "source": [
    "url = 'https://pro-api.coinmarketcap.com/v1/cryptocurrency/quotes/latest'\n",
    "\n",
    "params = {\n",
    "    'id':'1',\n",
    "    'convert':'USD'\n",
    "}\n",
    "headers = {\n",
    "  'Accepts': 'application/json',\n",
    "  'X-CMC_PRO_API_KEY': key\n",
    "}\n",
    "\n",
    "crypto_dict = requests.get(url,params = params, headers = headers).json()"
   ]
  },
  {
   "cell_type": "code",
   "execution_count": 10,
   "metadata": {},
   "outputs": [
    {
     "data": {
      "text/plain": [
       "{'status': {'timestamp': '2022-02-02T04:49:49.108Z',\n",
       "  'error_code': 0,\n",
       "  'error_message': None,\n",
       "  'elapsed': 30,\n",
       "  'credit_count': 1,\n",
       "  'notice': None},\n",
       " 'data': {'1': {'id': 1,\n",
       "   'name': 'Bitcoin',\n",
       "   'symbol': 'BTC',\n",
       "   'slug': 'bitcoin',\n",
       "   'num_market_pairs': 9122,\n",
       "   'date_added': '2013-04-28T00:00:00.000Z',\n",
       "   'tags': ['mineable',\n",
       "    'pow',\n",
       "    'sha-256',\n",
       "    'store-of-value',\n",
       "    'state-channel',\n",
       "    'coinbase-ventures-portfolio',\n",
       "    'three-arrows-capital-portfolio',\n",
       "    'polychain-capital-portfolio',\n",
       "    'binance-labs-portfolio',\n",
       "    'blockchain-capital-portfolio',\n",
       "    'boostvc-portfolio',\n",
       "    'cms-holdings-portfolio',\n",
       "    'dcg-portfolio',\n",
       "    'dragonfly-capital-portfolio',\n",
       "    'electric-capital-portfolio',\n",
       "    'fabric-ventures-portfolio',\n",
       "    'framework-ventures-portfolio',\n",
       "    'galaxy-digital-portfolio',\n",
       "    'huobi-capital-portfolio',\n",
       "    'alameda-research-portfolio',\n",
       "    'a16z-portfolio',\n",
       "    '1confirmation-portfolio',\n",
       "    'winklevoss-capital-portfolio',\n",
       "    'usv-portfolio',\n",
       "    'placeholder-ventures-portfolio',\n",
       "    'pantera-capital-portfolio',\n",
       "    'multicoin-capital-portfolio',\n",
       "    'paradigm-portfolio'],\n",
       "   'max_supply': 21000000,\n",
       "   'circulating_supply': 18946468,\n",
       "   'total_supply': 18946468,\n",
       "   'is_active': 1,\n",
       "   'platform': None,\n",
       "   'cmc_rank': 1,\n",
       "   'is_fiat': 0,\n",
       "   'self_reported_circulating_supply': None,\n",
       "   'self_reported_market_cap': None,\n",
       "   'last_updated': '2022-02-02T04:48:00.000Z',\n",
       "   'quote': {'USD': {'price': 38513.81906498299,\n",
       "     'volume_24h': 20226923864.309887,\n",
       "     'volume_change_24h': 0.736,\n",
       "     'percent_change_1h': -0.19493712,\n",
       "     'percent_change_24h': -0.07952838,\n",
       "     'percent_change_7d': 3.01120911,\n",
       "     'percent_change_30d': -17.94057425,\n",
       "     'percent_change_60d': -26.03714303,\n",
       "     'percent_change_90d': -38.62235455,\n",
       "     'market_cap': 729700840472.4902,\n",
       "     'market_cap_dominance': 41.1469,\n",
       "     'fully_diluted_market_cap': 808790200364.64,\n",
       "     'last_updated': '2022-02-02T04:48:00.000Z'}}}}}"
      ]
     },
     "execution_count": 10,
     "metadata": {},
     "output_type": "execute_result"
    }
   ],
   "source": [
    "crypto_dict"
   ]
  },
  {
   "cell_type": "code",
   "execution_count": 4,
   "metadata": {},
   "outputs": [],
   "source": [
    "# save json file\n",
    "with open('mydata.json', 'w') as f:\n",
    "    json.dump(crypto_dict, f)"
   ]
  },
  {
   "cell_type": "code",
   "execution_count": 5,
   "metadata": {},
   "outputs": [],
   "source": [
    "# open json file\n",
    "f = open('mydata.json')\n",
    "data = json.load(f)"
   ]
  },
  {
   "cell_type": "code",
   "execution_count": 52,
   "metadata": {},
   "outputs": [],
   "source": []
  },
  {
   "cell_type": "code",
   "execution_count": 54,
   "metadata": {},
   "outputs": [
    {
     "data": {
      "text/plain": [
       "Index(['id', 'name', 'symbol', 'slug', 'num_market_pairs', 'date_added',\n",
       "       'tags', 'max_supply', 'circulating_supply', 'total_supply', 'platform',\n",
       "       'cmc_rank', 'last_updated', 'quote.USD.price', 'quote.USD.volume_24h',\n",
       "       'quote.USD.volume_change_24h', 'quote.USD.percent_change_1h',\n",
       "       'quote.USD.percent_change_24h', 'quote.USD.percent_change_7d',\n",
       "       'quote.USD.percent_change_30d', 'quote.USD.percent_change_60d',\n",
       "       'quote.USD.percent_change_90d', 'quote.USD.market_cap',\n",
       "       'quote.USD.market_cap_dominance', 'quote.USD.fully_diluted_market_cap',\n",
       "       'quote.USD.last_updated', 'platform.id', 'platform.name',\n",
       "       'platform.symbol', 'platform.slug', 'platform.token_address'],\n",
       "      dtype='object')"
      ]
     },
     "execution_count": 54,
     "metadata": {},
     "output_type": "execute_result"
    }
   ],
   "source": []
  },
  {
   "cell_type": "code",
   "execution_count": null,
   "metadata": {},
   "outputs": [],
   "source": []
  }
 ],
 "metadata": {
  "interpreter": {
   "hash": "23b89f58921842f2569dcc9b83f9ba479f5f1ea88d847afcfb6299e9e2718519"
  },
  "kernelspec": {
   "display_name": "Python 3",
   "language": "python",
   "name": "python3"
  },
  "language_info": {
   "codemirror_mode": {
    "name": "ipython",
    "version": 3
   },
   "file_extension": ".py",
   "mimetype": "text/x-python",
   "name": "python",
   "nbconvert_exporter": "python",
   "pygments_lexer": "ipython3",
   "version": "3.8.5"
  }
 },
 "nbformat": 4,
 "nbformat_minor": 4
}
